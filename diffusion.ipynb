{
 "cells": [
  {
   "cell_type": "markdown",
   "metadata": {},
   "source": [
    "# Understanding Diffusion Models: A Unified Perspective"
   ]
  },
  {
   "cell_type": "markdown",
   "metadata": {},
   "source": [
    "给定一组数据$\\{x_i\\}$，找到这组数据的最大似然分布$p(x)$，考虑引入隐变量$z$进行建模，有以下两种方式（边缘化隐变量或者纯粹基于概率）计算$p(x)$\n",
    "$$\\tag{1} p(x) = \\int p(x,z) \\mathrm{d}z \\cdot$$\n",
    "$$\\tag{2} p(x) = \\frac{p(x,z)}{p(z|x)}$$\n",
    "显然，我们应该最大化$p(x)$以达到对数据分布的最好拟合效果，具体可以写为\n",
    "\n",
    "$$\n",
    "\\begin{aligned}\n",
    "    \\ln p(x) &= \\ln p(x) \\int q_{\\phi}(z|x) \\mathrm{d}z \\\\\n",
    "    &= \\int q_{\\phi}(z|x) \\ln p(x) \\mathrm{d}z \\\\\n",
    "    &= \n",
    "\\end{aligned}\n",
    "$$"
   ]
  },
  {
   "cell_type": "markdown",
   "metadata": {},
   "source": []
  }
 ],
 "metadata": {
  "language_info": {
   "name": "python"
  }
 },
 "nbformat": 4,
 "nbformat_minor": 2
}
